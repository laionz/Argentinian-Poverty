{
 "cells": [
  {
   "cell_type": "markdown",
   "metadata": {},
   "source": [
    "La Encuesta Permanente de Hogares (EPH) es un programa nacional de producción sistemática y permanente de indicadores sociales que lleva a cabo el Instituto Nacional de\n",
    "Estadística y Censos (INDEC), que permite conocer las características sociodemográficas y\n",
    "socioeconómicas de la población. Uno de los indicadores más valiosos que pueden obtenerse\n",
    "con los datos extraídos de esta encuesta es la tasa de pobreza con el método de ingresos.\n",
    "Para esto se confecciona una canasta de bienes y servicios esenciales que permite dividir entre quiénes pueden acceder a ella-no pobres- y quienes no pueden adquirirla, considerados pobres. \n",
    "Sin embargo para realizar la clasificación es necesario conocer el nivel de ingresos de los encuestados. Pero en muchos casos esta información no es brindada por el público, dificultando la clasificación. \n",
    "Es por ello que nos proponemos construir una serie de modelos que permitan clasificar la situación de pobreza para quienes no informaron sus ingresos. "
   ]
  },
  {
   "cell_type": "markdown",
   "metadata": {},
   "source": [
    "### Parte I: Analizando la base"
   ]
  },
  {
   "cell_type": "code",
   "execution_count": 1,
   "metadata": {},
   "outputs": [],
   "source": [
    "#importamos los paquetes\n",
    "import pandas as pd\n",
    "import numpy as np\n",
    "import matplotlib\n",
    "import matplotlib.pyplot as plt\n",
    "import seaborn as sns\n",
    "import re\n",
    "import warnings\n",
    "import statsmodels.api as sm\n",
    "\n",
    "pd.set_option('display.max_columns', 100)\n",
    "pd.set_option('display.max_rows', 100)"
   ]
  },
  {
   "cell_type": "markdown",
   "metadata": {},
   "source": [
    "Vamos a usar una base reducida. Sobre ella vamos a calcular todas las columnas con valores negativos."
   ]
  },
  {
   "cell_type": "code",
   "execution_count": 2,
   "metadata": {},
   "outputs": [
    {
     "name": "stdout",
     "output_type": "stream",
     "text": [
      "CH06 104.0\n",
      "PP06C 274.0\n",
      "PP06D 125.0\n",
      "PP08D1 710.0\n",
      "PP08F1 47.0\n",
      "PP08F2 14.0\n",
      "PP08J1 183.0\n",
      "PP08J2 9.0\n",
      "P21 1106.0\n",
      "TOT_P12 135.0\n",
      "P47T 1527.0\n",
      "V2_M 229.0\n",
      "V3_M 10.0\n",
      "V4_M 1.0\n",
      "V5_M 20.0\n",
      "V8_M 25.0\n",
      "V9_M 2.0\n",
      "V10_M 26.0\n",
      "V11_M 7.0\n",
      "V12_M 85.0\n",
      "V18_M 1.0\n",
      "V21_M 83.0\n",
      "T_VI 395.0\n"
     ]
    }
   ],
   "source": [
    "df = pd.read_csv(\"indiv.csv\")\n",
    "\n",
    "columnas= df.columns\n",
    "res=[]\n",
    "for i in range(df.shape[1]):\n",
    "    if df[columnas[i]].dtypes == int or df[columnas[i]].dtypes == float :\n",
    "        res.append( (df[columnas[i]]<0).sum()) \n",
    "    else:\n",
    "        res.append(None) \n",
    "    \n",
    "row=pd.Series(res,df.columns)\n",
    "df1= df.append([row],ignore_index=True)\n",
    "columnas_con_neg=[]\n",
    "\n",
    "for i in range(df1.shape[1]):\n",
    "    if df1.loc[10352, df1.columns[i]]>0:\n",
    "        columnas_con_neg.append(df.columns[i])\n",
    "        print (df1.columns[i],df1.loc[10352,df1.columns[i]] )"
   ]
  },
  {
   "cell_type": "markdown",
   "metadata": {},
   "source": [
    "Vamos a borrar columnas con valores negativos pero primero vamos a excluir las variables P47T (Monto total de ingreso individual percibido en ese mes) y P21 (Monto de ingreso de la ocupación principal percibido en ese mes) para no generar sesgo  con los desocupados e inactivos"
   ]
  },
  {
   "cell_type": "code",
   "execution_count": 3,
   "metadata": {},
   "outputs": [],
   "source": [
    "columnas_con_neg.remove(\"P47T\")\n",
    "columnas_con_neg.remove(\"P21\")"
   ]
  },
  {
   "cell_type": "markdown",
   "metadata": {},
   "source": [
    "Ahora sí, borramos columnas con valores negativos"
   ]
  },
  {
   "cell_type": "code",
   "execution_count": 4,
   "metadata": {},
   "outputs": [],
   "source": [
    "for d in range(len(columnas_con_neg)):   \n",
    "    df= df[~(df[columnas_con_neg[d]] < 0)]"
   ]
  },
  {
   "cell_type": "markdown",
   "metadata": {},
   "source": [
    "Mostramos la composicion de los encuestados por sexo"
   ]
  },
  {
   "cell_type": "code",
   "execution_count": 5,
   "metadata": {},
   "outputs": [
    {
     "data": {
      "image/png": "[encoded data removed]",
      "text/plain": [
       "<Figure size 432x288 with 1 Axes>"
      ]
     },
     "metadata": {
      "needs_background": "light"
     },
     "output_type": "display_data"
    }
   ],
   "source": [
    "df['CH04'].value_counts().plot(kind='bar')\n",
    "\n",
    "plt.title(\"Distribución por sexo-EPH\")\n",
    "plt.bars=(\"MUJERES\", \"HOMBRES\")"
   ]
  },
  {
   "cell_type": "markdown",
   "metadata": {},
   "source": [
    "Observamos que la composición de mujeres(x=2) es mayor a la de hombres (x=1)"
   ]
  },
  {
   "cell_type": "markdown",
   "metadata": {},
   "source": [
    "Ahora realizamos una matriz de correlación con las variables: \n",
    "Sexo, Situación Conyugal, Cobertura Médica, Nivel Educativo, Condición de Actividad, Categoría de inactivo e Ingreso Familiar. "
   ]
  },
  {
   "cell_type": "code",
   "execution_count": 6,
   "metadata": {},
   "outputs": [
    {
     "data": {
      "text/plain": [
       "[Text(0.5, 0, 'CH04'),\n",
       " Text(1.5, 0, 'CH07'),\n",
       " Text(2.5, 0, 'CH08'),\n",
       " Text(3.5, 0, 'NIVEL_ED'),\n",
       " Text(4.5, 0, 'ESTADO'),\n",
       " Text(5.5, 0, 'CAT_INAC'),\n",
       " Text(6.5, 0, 'IPCF')]"
      ]
     },
     "execution_count": 6,
     "metadata": {},
     "output_type": "execute_result"
    },
    {
     "data": {
      "image/png": "[encoded data removed]",
      "text/plain": [
       "<Figure size 432x288 with 2 Axes>"
      ]
     },
     "metadata": {
      "needs_background": "light"
     },
     "output_type": "display_data"
    }
   ],
   "source": [
    "df1 = df[[\"CH04\", \"CH07\",\"CH08\", \"NIVEL_ED\", \"ESTADO\", \"CAT_INAC\", \"IPCF\"]]\n",
    "corr = df1.corr()\n",
    "ax = sns.heatmap(\n",
    "    corr, \n",
    "    vmin=-1, vmax=1, center=0,\n",
    "    cmap=sns.diverging_palette(20, 220, n=200),\n",
    "    square=True\n",
    ")\n",
    "ax.set_xticklabels(\n",
    "    ax.get_xticklabels(),\n",
    "    rotation=45,\n",
    "    horizontalalignment='right'\n",
    ")"
   ]
  },
  {
   "cell_type": "markdown",
   "metadata": {},
   "source": [
    "Se ve que hay una correlación negativa entre Nivel de educación y Condición laboral (Estado), lo cual indica la menor inserción en el mercado de trabajo para quienes no poseen muchas calificaciones educativas.\n",
    "\n",
    "También se ve que hay una relación positiva entre Situación conyugal (CH07) y Estado, evidenciando que la tasa de ocupación cae en aquellas personas que tienen una relación conyugal.\n",
    "\n",
    "Logicamente la relación entre Ingresos(IPCF) y Condición Laboral es negativa, expresando que quienes estan inactivos o desocupados obtienen menos ingresos que quienes estan ocupados. "
   ]
  },
  {
   "cell_type": "code",
   "execution_count": 7,
   "metadata": {},
   "outputs": [],
   "source": [
    "OCUPADOS = df[df.ESTADO==1]\n",
    "DESOCUPADOS = df[df.ESTADO==2]\n",
    "INACTIVOS = df[df.ESTADO==3]"
   ]
  },
  {
   "cell_type": "code",
   "execution_count": 8,
   "metadata": {},
   "outputs": [
    {
     "data": {
      "text/plain": [
       "2    546\n",
       "Name: ESTADO, dtype: int64"
      ]
     },
     "execution_count": 8,
     "metadata": {},
     "output_type": "execute_result"
    }
   ],
   "source": [
    "# Calculamos cantidad de desocupados\n",
    "DESOCUPADOS[\"ESTADO\"].value_counts()"
   ]
  },
  {
   "cell_type": "code",
   "execution_count": 9,
   "metadata": {},
   "outputs": [
    {
     "data": {
      "text/plain": [
       "3    3629\n",
       "Name: ESTADO, dtype: int64"
      ]
     },
     "execution_count": 9,
     "metadata": {},
     "output_type": "execute_result"
    }
   ],
   "source": [
    "# Calculamos cantidad de inactivos\n",
    "INACTIVOS[\"ESTADO\"].value_counts()"
   ]
  },
  {
   "cell_type": "code",
   "execution_count": 10,
   "metadata": {},
   "outputs": [
    {
     "data": {
      "text/plain": [
       "15694.966184751664"
      ]
     },
     "execution_count": 10,
     "metadata": {},
     "output_type": "execute_result"
    }
   ],
   "source": [
    "# Calculamos IPCF promedio de los OCUPADOS\n",
    "OCUPADOS[\"IPCF\"].mean()"
   ]
  },
  {
   "cell_type": "code",
   "execution_count": 11,
   "metadata": {},
   "outputs": [
    {
     "data": {
      "text/plain": [
       "7979.825622710623"
      ]
     },
     "execution_count": 11,
     "metadata": {},
     "output_type": "execute_result"
    }
   ],
   "source": [
    "#Calculamos IPCF pronedio de los DESOCUPADOS\n",
    "DESOCUPADOS[\"IPCF\"].mean()"
   ]
  },
  {
   "cell_type": "code",
   "execution_count": 12,
   "metadata": {},
   "outputs": [
    {
     "data": {
      "text/plain": [
       "9360.440810140535"
      ]
     },
     "execution_count": 12,
     "metadata": {},
     "output_type": "execute_result"
    }
   ],
   "source": [
    "# Calculamos el IPCF promedio de los INACTIVOS\n",
    "INACTIVOS[\"IPCF\"].mean()"
   ]
  },
  {
   "cell_type": "code",
   "execution_count": 13,
   "metadata": {},
   "outputs": [
    {
     "data": {
      "text/plain": [
       "2099"
      ]
     },
     "execution_count": 13,
     "metadata": {},
     "output_type": "execute_result"
    }
   ],
   "source": [
    "# Personas que NO respondieron Ingresos Totales familiares\n",
    "df[df.ITF==0][\"ITF\"].count()"
   ]
  },
  {
   "cell_type": "markdown",
   "metadata": {},
   "source": [
    "Vamos a utilizar el archivo del INDEC 'tabla_adulto_equiv.xlsx' con el proposito\n",
    "de generar una columna que indique el equivalente de adulto de cada encuestado."
   ]
  },
  {
   "cell_type": "code",
   "execution_count": 14,
   "metadata": {},
   "outputs": [],
   "source": [
    "df2 = pd.read_excel('tabla_adulto_equiv.xlsx')\n",
    "def read_adulto_equiv():\n",
    "    df2 = pd.read_excel('tabla_adulto_equiv.xlsx', skiprows=3, nrows=24)\n",
    "    df2 = df2.iloc[1:,0:3]\n",
    "    return df2\n",
    "\n",
    "df2 = read_adulto_equiv()\n",
    "df2.iloc[0,0] = '0'"
   ]
  },
  {
   "cell_type": "code",
   "execution_count": 15,
   "metadata": {},
   "outputs": [
    {
     "data": {
      "text/plain": [
       "1                  0\n",
       "2               1año\n",
       "3             2 años\n",
       "4             3 años\n",
       "5             4 años\n",
       "6             5 años\n",
       "7             6 años\n",
       "8             7 años\n",
       "9             8 años\n",
       "10            9 años\n",
       "11           10 años\n",
       "12           11 años\n",
       "13           12 años\n",
       "14           13 años\n",
       "15           14 años\n",
       "16           15 años\n",
       "17           16 años\n",
       "18           17 años\n",
       "19      18 a 29 años\n",
       "20      30 a 45 años\n",
       "21      46 a 60 años\n",
       "22      61 a 75 años\n",
       "23    más de 75 años\n",
       "Name: Edad, dtype: object"
      ]
     },
     "execution_count": 15,
     "metadata": {},
     "output_type": "execute_result"
    }
   ],
   "source": [
    "df2[\"Edad\"]"
   ]
  },
  {
   "cell_type": "code",
   "execution_count": 16,
   "metadata": {},
   "outputs": [
    {
     "data": {
      "text/plain": [
       "1           0\n",
       "2           1\n",
       "3           2\n",
       "4           3\n",
       "5           4\n",
       "6           5\n",
       "7           6\n",
       "8           7\n",
       "9           8\n",
       "10          9\n",
       "11         10\n",
       "12         11\n",
       "13         12\n",
       "14         13\n",
       "15         14\n",
       "16         15\n",
       "17         16\n",
       "18         17\n",
       "19    18   29\n",
       "20    30   45\n",
       "21    46   60\n",
       "22    61   75\n",
       "23         75\n",
       "Name: Edad, dtype: object"
      ]
     },
     "execution_count": 16,
     "metadata": {},
     "output_type": "execute_result"
    }
   ],
   "source": [
    "df2[\"Edad\"] = df2.Edad.apply(lambda x: re.sub(\"\\D\", \" \", x).strip())\n",
    "df2[\"Edad\"]"
   ]
  },
  {
   "cell_type": "code",
   "execution_count": 17,
   "metadata": {},
   "outputs": [],
   "source": [
    "df2 = df2.set_index(\"Edad\")"
   ]
  },
  {
   "cell_type": "code",
   "execution_count": 18,
   "metadata": {},
   "outputs": [
    {
     "data": {
      "text/html": [
       "<div>\n",
       "<style scoped>\n",
       "    .dataframe tbody tr th:only-of-type {\n",
       "        vertical-align: middle;\n",
       "    }\n",
       "\n",
       "    .dataframe tbody tr th {\n",
       "        vertical-align: top;\n",
       "    }\n",
       "\n",
       "    .dataframe thead th {\n",
       "        text-align: right;\n",
       "    }\n",
       "</style>\n",
       "<table border=\"1\" class=\"dataframe\">\n",
       "  <thead>\n",
       "    <tr style=\"text-align: right;\">\n",
       "      <th></th>\n",
       "      <th>Mujeres</th>\n",
       "      <th>Varones</th>\n",
       "    </tr>\n",
       "    <tr>\n",
       "      <th>Edad</th>\n",
       "      <th></th>\n",
       "      <th></th>\n",
       "    </tr>\n",
       "  </thead>\n",
       "  <tbody>\n",
       "    <tr>\n",
       "      <th>0</th>\n",
       "      <td>0.35</td>\n",
       "      <td>0.35</td>\n",
       "    </tr>\n",
       "    <tr>\n",
       "      <th>1</th>\n",
       "      <td>0.37</td>\n",
       "      <td>0.37</td>\n",
       "    </tr>\n",
       "    <tr>\n",
       "      <th>2</th>\n",
       "      <td>0.46</td>\n",
       "      <td>0.46</td>\n",
       "    </tr>\n",
       "    <tr>\n",
       "      <th>3</th>\n",
       "      <td>0.51</td>\n",
       "      <td>0.51</td>\n",
       "    </tr>\n",
       "    <tr>\n",
       "      <th>4</th>\n",
       "      <td>0.55</td>\n",
       "      <td>0.55</td>\n",
       "    </tr>\n",
       "    <tr>\n",
       "      <th>5</th>\n",
       "      <td>0.60</td>\n",
       "      <td>0.60</td>\n",
       "    </tr>\n",
       "    <tr>\n",
       "      <th>6</th>\n",
       "      <td>0.64</td>\n",
       "      <td>0.64</td>\n",
       "    </tr>\n",
       "    <tr>\n",
       "      <th>7</th>\n",
       "      <td>0.66</td>\n",
       "      <td>0.66</td>\n",
       "    </tr>\n",
       "    <tr>\n",
       "      <th>8</th>\n",
       "      <td>0.68</td>\n",
       "      <td>0.68</td>\n",
       "    </tr>\n",
       "    <tr>\n",
       "      <th>9</th>\n",
       "      <td>0.69</td>\n",
       "      <td>0.69</td>\n",
       "    </tr>\n",
       "    <tr>\n",
       "      <th>10</th>\n",
       "      <td>0.70</td>\n",
       "      <td>0.79</td>\n",
       "    </tr>\n",
       "    <tr>\n",
       "      <th>11</th>\n",
       "      <td>0.72</td>\n",
       "      <td>0.82</td>\n",
       "    </tr>\n",
       "    <tr>\n",
       "      <th>12</th>\n",
       "      <td>0.74</td>\n",
       "      <td>0.85</td>\n",
       "    </tr>\n",
       "    <tr>\n",
       "      <th>13</th>\n",
       "      <td>0.76</td>\n",
       "      <td>0.90</td>\n",
       "    </tr>\n",
       "    <tr>\n",
       "      <th>14</th>\n",
       "      <td>0.76</td>\n",
       "      <td>0.96</td>\n",
       "    </tr>\n",
       "    <tr>\n",
       "      <th>15</th>\n",
       "      <td>0.77</td>\n",
       "      <td>1.00</td>\n",
       "    </tr>\n",
       "    <tr>\n",
       "      <th>16</th>\n",
       "      <td>0.77</td>\n",
       "      <td>1.03</td>\n",
       "    </tr>\n",
       "    <tr>\n",
       "      <th>17</th>\n",
       "      <td>0.77</td>\n",
       "      <td>1.04</td>\n",
       "    </tr>\n",
       "    <tr>\n",
       "      <th>18   29</th>\n",
       "      <td>0.76</td>\n",
       "      <td>1.02</td>\n",
       "    </tr>\n",
       "    <tr>\n",
       "      <th>30   45</th>\n",
       "      <td>0.77</td>\n",
       "      <td>1.00</td>\n",
       "    </tr>\n",
       "    <tr>\n",
       "      <th>46   60</th>\n",
       "      <td>0.76</td>\n",
       "      <td>1.00</td>\n",
       "    </tr>\n",
       "    <tr>\n",
       "      <th>61   75</th>\n",
       "      <td>0.67</td>\n",
       "      <td>0.83</td>\n",
       "    </tr>\n",
       "    <tr>\n",
       "      <th>75</th>\n",
       "      <td>0.63</td>\n",
       "      <td>0.74</td>\n",
       "    </tr>\n",
       "  </tbody>\n",
       "</table>\n",
       "</div>"
      ],
      "text/plain": [
       "         Mujeres  Varones\n",
       "Edad                     \n",
       "0           0.35     0.35\n",
       "1           0.37     0.37\n",
       "2           0.46     0.46\n",
       "3           0.51     0.51\n",
       "4           0.55     0.55\n",
       "5           0.60     0.60\n",
       "6           0.64     0.64\n",
       "7           0.66     0.66\n",
       "8           0.68     0.68\n",
       "9           0.69     0.69\n",
       "10          0.70     0.79\n",
       "11          0.72     0.82\n",
       "12          0.74     0.85\n",
       "13          0.76     0.90\n",
       "14          0.76     0.96\n",
       "15          0.77     1.00\n",
       "16          0.77     1.03\n",
       "17          0.77     1.04\n",
       "18   29     0.76     1.02\n",
       "30   45     0.77     1.00\n",
       "46   60     0.76     1.00\n",
       "61   75     0.67     0.83\n",
       "75          0.63     0.74"
      ]
     },
     "execution_count": 18,
     "metadata": {},
     "output_type": "execute_result"
    }
   ],
   "source": [
    "df2"
   ]
  },
  {
   "cell_type": "code",
   "execution_count": 19,
   "metadata": {},
   "outputs": [],
   "source": [
    "for index, row in df.iterrows():\n",
    "    edad = row.CH06\n",
    "    sexo = row.CH04\n",
    "\n",
    "    if sexo == 1:\n",
    "        df_temp = df2[[\"Mujeres\"]]\n",
    "    else:\n",
    "        df_temp = df2[[\"Varones\"]]\n",
    "\n",
    "    if edad in range(0, 18):\n",
    "        adulto_equiv = df_temp.loc[str(edad)] \n",
    "    elif edad in range(18, 29+1):\n",
    "         adulto_equiv = df_temp.loc['18   29']\n",
    "    elif edad in range(30, 45+1):\n",
    "         adulto_equiv = df_temp.loc['30   45']\n",
    "    elif edad in range(46, 60+1):\n",
    "         adulto_equiv = df_temp.loc['46   60']\n",
    "    elif edad in range(61, 75):\n",
    "         adulto_equiv = df_temp.loc['61   75']\n",
    "    elif edad >= 75:\n",
    "         adulto_equiv = df_temp.loc['75']\n",
    "    \n",
    "    #print(edad, sexo, adulto_equiv)\n",
    "    df.loc[index, 'adulto_equiv'] = adulto_equiv[0]\n",
    "  "
   ]
  },
  {
   "cell_type": "code",
   "execution_count": 20,
   "metadata": {},
   "outputs": [],
   "source": [
    "#creamos una columna con la proporción de adulto equivalente de cada encuestado \n",
    "df[\"ad_equiv_hogar\"] = df.groupby([\"CODUSU\"])[\"adulto_equiv\"].transform(np.sum)"
   ]
  },
  {
   "cell_type": "markdown",
   "metadata": {},
   "source": [
    "Vamos a separar la base en 2, según si respondieron o no a la pregunta \n",
    "\"Cuántas personas no respondieron cuál es su ingreso total familiar (ITF)?\""
   ]
  },
  {
   "cell_type": "code",
   "execution_count": 21,
   "metadata": {},
   "outputs": [],
   "source": [
    "norespuesta = df[df.ITF == 0].copy()\n",
    "respondieron = df[df.ITF > 0].copy()\n",
    "norespuesta.reset_index(inplace= True)\n",
    "respondieron.reset_index(inplace= True)\n",
    "respondieron.to_csv(\"respondieron\", index=False)\n",
    "norespuesta.to_csv(\"norespuesta\", index=False)"
   ]
  },
  {
   "cell_type": "markdown",
   "metadata": {},
   "source": [
    "Creamos una columna que diga el ingreso necesario para no ser pobre según valores \n",
    "del 1er trimestre de 2019 cuando la canasta de un adulto equivalente valía $8928"
   ]
  },
  {
   "cell_type": "code",
   "execution_count": 22,
   "metadata": {},
   "outputs": [
    {
     "name": "stdout",
     "output_type": "stream",
     "text": [
      "Hay 2281 pobres\n"
     ]
    }
   ],
   "source": [
    "respondieron[\"ingreso_necesario\"] = respondieron[\"ad_equiv_hogar\"] * 8928\n",
    "\n",
    "respondieron[\"Pobre\"] = np.where(respondieron.ingreso_necesario < respondieron.ITF, 0, 1)\n",
    "\n",
    "x = respondieron[\"Pobre\"].value_counts()[1]\n",
    "print(\"Hay {} pobres\".format(x))"
   ]
  },
  {
   "cell_type": "code",
   "execution_count": 23,
   "metadata": {},
   "outputs": [
    {
     "data": {
      "text/html": [
       "<div>\n",
       "<style scoped>\n",
       "    .dataframe tbody tr th:only-of-type {\n",
       "        vertical-align: middle;\n",
       "    }\n",
       "\n",
       "    .dataframe tbody tr th {\n",
       "        vertical-align: top;\n",
       "    }\n",
       "\n",
       "    .dataframe thead th {\n",
       "        text-align: right;\n",
       "    }\n",
       "</style>\n",
       "<table border=\"1\" class=\"dataframe\">\n",
       "  <thead>\n",
       "    <tr style=\"text-align: right;\">\n",
       "      <th></th>\n",
       "      <th>index</th>\n",
       "      <th>Unnamed: 0</th>\n",
       "      <th>CODUSU</th>\n",
       "      <th>ANO4</th>\n",
       "      <th>TRIMESTRE</th>\n",
       "      <th>NRO_HOGAR</th>\n",
       "      <th>COMPONENTE</th>\n",
       "      <th>H15</th>\n",
       "      <th>REGION</th>\n",
       "      <th>MAS_500</th>\n",
       "      <th>AGLOMERADO</th>\n",
       "      <th>PONDERA</th>\n",
       "      <th>CH03</th>\n",
       "      <th>CH04</th>\n",
       "      <th>CH05</th>\n",
       "      <th>CH06</th>\n",
       "      <th>CH07</th>\n",
       "      <th>CH08</th>\n",
       "      <th>CH09</th>\n",
       "      <th>CH10</th>\n",
       "      <th>CH11</th>\n",
       "      <th>CH12</th>\n",
       "      <th>CH13</th>\n",
       "      <th>CH14</th>\n",
       "      <th>CH15</th>\n",
       "      <th>CH15_COD</th>\n",
       "      <th>CH16</th>\n",
       "      <th>CH16_COD</th>\n",
       "      <th>NIVEL_ED</th>\n",
       "      <th>ESTADO</th>\n",
       "      <th>CAT_OCUP</th>\n",
       "      <th>CAT_INAC</th>\n",
       "      <th>IMPUTA</th>\n",
       "      <th>PP02C1</th>\n",
       "      <th>PP02C2</th>\n",
       "      <th>PP02C3</th>\n",
       "      <th>PP02C4</th>\n",
       "      <th>PP02C5</th>\n",
       "      <th>PP02C6</th>\n",
       "      <th>PP02C7</th>\n",
       "      <th>PP02C8</th>\n",
       "      <th>PP02E</th>\n",
       "      <th>PP02H</th>\n",
       "      <th>PP02I</th>\n",
       "      <th>PP03C</th>\n",
       "      <th>PP03D</th>\n",
       "      <th>PP3E_TOT</th>\n",
       "      <th>PP3F_TOT</th>\n",
       "      <th>PP03G</th>\n",
       "      <th>PP03H</th>\n",
       "      <th>...</th>\n",
       "      <th>PP11T</th>\n",
       "      <th>P21</th>\n",
       "      <th>DECOCUR</th>\n",
       "      <th>IDECOCUR</th>\n",
       "      <th>RDECOCUR</th>\n",
       "      <th>GDECOCUR</th>\n",
       "      <th>PDECOCUR</th>\n",
       "      <th>ADECOCUR</th>\n",
       "      <th>PONDIIO</th>\n",
       "      <th>TOT_P12</th>\n",
       "      <th>P47T</th>\n",
       "      <th>DECINDR</th>\n",
       "      <th>IDECINDR</th>\n",
       "      <th>RDECINDR</th>\n",
       "      <th>GDECINDR</th>\n",
       "      <th>PDECINDR</th>\n",
       "      <th>ADECINDR</th>\n",
       "      <th>PONDII</th>\n",
       "      <th>V2_M</th>\n",
       "      <th>V3_M</th>\n",
       "      <th>V4_M</th>\n",
       "      <th>V5_M</th>\n",
       "      <th>V8_M</th>\n",
       "      <th>V9_M</th>\n",
       "      <th>V10_M</th>\n",
       "      <th>V11_M</th>\n",
       "      <th>V12_M</th>\n",
       "      <th>V18_M</th>\n",
       "      <th>V19_AM</th>\n",
       "      <th>V21_M</th>\n",
       "      <th>T_VI</th>\n",
       "      <th>ITF</th>\n",
       "      <th>DECIFR</th>\n",
       "      <th>IDECIFR</th>\n",
       "      <th>RDECIFR</th>\n",
       "      <th>GDECIFR</th>\n",
       "      <th>PDECIFR</th>\n",
       "      <th>ADECIFR</th>\n",
       "      <th>IPCF</th>\n",
       "      <th>DECCFR</th>\n",
       "      <th>IDECCFR</th>\n",
       "      <th>RDECCFR</th>\n",
       "      <th>GDECCFR</th>\n",
       "      <th>PDECCFR</th>\n",
       "      <th>ADECCFR</th>\n",
       "      <th>PONDIH</th>\n",
       "      <th>adulto_equiv</th>\n",
       "      <th>ad_equiv_hogar</th>\n",
       "      <th>ingreso_necesario</th>\n",
       "      <th>Pobre</th>\n",
       "    </tr>\n",
       "  </thead>\n",
       "  <tbody>\n",
       "    <tr>\n",
       "      <th>0</th>\n",
       "      <td>1</td>\n",
       "      <td>2</td>\n",
       "      <td>TQRMNOQWRHLNMNCDEIJAH00605319</td>\n",
       "      <td>2019</td>\n",
       "      <td>1</td>\n",
       "      <td>1</td>\n",
       "      <td>1</td>\n",
       "      <td>1</td>\n",
       "      <td>1</td>\n",
       "      <td>S</td>\n",
       "      <td>33</td>\n",
       "      <td>1396</td>\n",
       "      <td>1</td>\n",
       "      <td>1</td>\n",
       "      <td>32213</td>\n",
       "      <td>31</td>\n",
       "      <td>5</td>\n",
       "      <td>4</td>\n",
       "      <td>1</td>\n",
       "      <td>2</td>\n",
       "      <td>0</td>\n",
       "      <td>4</td>\n",
       "      <td>1</td>\n",
       "      <td>NaN</td>\n",
       "      <td>1</td>\n",
       "      <td>NaN</td>\n",
       "      <td>1</td>\n",
       "      <td>NaN</td>\n",
       "      <td>4</td>\n",
       "      <td>1</td>\n",
       "      <td>3</td>\n",
       "      <td>0</td>\n",
       "      <td>0</td>\n",
       "      <td>0</td>\n",
       "      <td>0</td>\n",
       "      <td>0</td>\n",
       "      <td>0</td>\n",
       "      <td>0</td>\n",
       "      <td>0</td>\n",
       "      <td>0</td>\n",
       "      <td>0</td>\n",
       "      <td>0</td>\n",
       "      <td>0</td>\n",
       "      <td>0</td>\n",
       "      <td>1.0</td>\n",
       "      <td>0.0</td>\n",
       "      <td>77.0</td>\n",
       "      <td>0.0</td>\n",
       "      <td>2.0</td>\n",
       "      <td>0.0</td>\n",
       "      <td>...</td>\n",
       "      <td>NaN</td>\n",
       "      <td>15000.0</td>\n",
       "      <td>5</td>\n",
       "      <td>NaN</td>\n",
       "      <td>4</td>\n",
       "      <td>5</td>\n",
       "      <td>NaN</td>\n",
       "      <td>5</td>\n",
       "      <td>1790</td>\n",
       "      <td>0.0</td>\n",
       "      <td>15000.0</td>\n",
       "      <td>5</td>\n",
       "      <td>NaN</td>\n",
       "      <td>5</td>\n",
       "      <td>5</td>\n",
       "      <td>NaN</td>\n",
       "      <td>5</td>\n",
       "      <td>1837</td>\n",
       "      <td>0</td>\n",
       "      <td>0.0</td>\n",
       "      <td>0</td>\n",
       "      <td>0</td>\n",
       "      <td>0.0</td>\n",
       "      <td>0</td>\n",
       "      <td>0</td>\n",
       "      <td>0</td>\n",
       "      <td>0</td>\n",
       "      <td>0.0</td>\n",
       "      <td>0</td>\n",
       "      <td>0</td>\n",
       "      <td>0.0</td>\n",
       "      <td>30000.0</td>\n",
       "      <td>5.0</td>\n",
       "      <td>NaN</td>\n",
       "      <td>5.0</td>\n",
       "      <td>5.0</td>\n",
       "      <td>NaN</td>\n",
       "      <td>5.0</td>\n",
       "      <td>15000.0</td>\n",
       "      <td>7.0</td>\n",
       "      <td>NaN</td>\n",
       "      <td>6.0</td>\n",
       "      <td>6.0</td>\n",
       "      <td>NaN</td>\n",
       "      <td>7.0</td>\n",
       "      <td>1858</td>\n",
       "      <td>0.77</td>\n",
       "      <td>1.53</td>\n",
       "      <td>13659.84</td>\n",
       "      <td>0</td>\n",
       "    </tr>\n",
       "    <tr>\n",
       "      <th>1</th>\n",
       "      <td>2</td>\n",
       "      <td>3</td>\n",
       "      <td>TQRMNOQWRHLNMNCDEIJAH00605319</td>\n",
       "      <td>2019</td>\n",
       "      <td>1</td>\n",
       "      <td>1</td>\n",
       "      <td>2</td>\n",
       "      <td>1</td>\n",
       "      <td>1</td>\n",
       "      <td>S</td>\n",
       "      <td>33</td>\n",
       "      <td>1396</td>\n",
       "      <td>8</td>\n",
       "      <td>1</td>\n",
       "      <td>33299</td>\n",
       "      <td>28</td>\n",
       "      <td>5</td>\n",
       "      <td>4</td>\n",
       "      <td>1</td>\n",
       "      <td>2</td>\n",
       "      <td>0</td>\n",
       "      <td>4</td>\n",
       "      <td>1</td>\n",
       "      <td>NaN</td>\n",
       "      <td>1</td>\n",
       "      <td>NaN</td>\n",
       "      <td>1</td>\n",
       "      <td>NaN</td>\n",
       "      <td>4</td>\n",
       "      <td>1</td>\n",
       "      <td>3</td>\n",
       "      <td>0</td>\n",
       "      <td>0</td>\n",
       "      <td>0</td>\n",
       "      <td>0</td>\n",
       "      <td>0</td>\n",
       "      <td>0</td>\n",
       "      <td>0</td>\n",
       "      <td>0</td>\n",
       "      <td>0</td>\n",
       "      <td>0</td>\n",
       "      <td>0</td>\n",
       "      <td>0</td>\n",
       "      <td>0</td>\n",
       "      <td>1.0</td>\n",
       "      <td>0.0</td>\n",
       "      <td>77.0</td>\n",
       "      <td>0.0</td>\n",
       "      <td>2.0</td>\n",
       "      <td>0.0</td>\n",
       "      <td>...</td>\n",
       "      <td>NaN</td>\n",
       "      <td>15000.0</td>\n",
       "      <td>5</td>\n",
       "      <td>NaN</td>\n",
       "      <td>4</td>\n",
       "      <td>5</td>\n",
       "      <td>NaN</td>\n",
       "      <td>5</td>\n",
       "      <td>2018</td>\n",
       "      <td>0.0</td>\n",
       "      <td>15000.0</td>\n",
       "      <td>5</td>\n",
       "      <td>NaN</td>\n",
       "      <td>5</td>\n",
       "      <td>5</td>\n",
       "      <td>NaN</td>\n",
       "      <td>5</td>\n",
       "      <td>1935</td>\n",
       "      <td>0</td>\n",
       "      <td>0.0</td>\n",
       "      <td>0</td>\n",
       "      <td>0</td>\n",
       "      <td>0.0</td>\n",
       "      <td>0</td>\n",
       "      <td>0</td>\n",
       "      <td>0</td>\n",
       "      <td>0</td>\n",
       "      <td>0.0</td>\n",
       "      <td>0</td>\n",
       "      <td>0</td>\n",
       "      <td>0.0</td>\n",
       "      <td>30000.0</td>\n",
       "      <td>5.0</td>\n",
       "      <td>NaN</td>\n",
       "      <td>5.0</td>\n",
       "      <td>5.0</td>\n",
       "      <td>NaN</td>\n",
       "      <td>5.0</td>\n",
       "      <td>15000.0</td>\n",
       "      <td>7.0</td>\n",
       "      <td>NaN</td>\n",
       "      <td>6.0</td>\n",
       "      <td>6.0</td>\n",
       "      <td>NaN</td>\n",
       "      <td>7.0</td>\n",
       "      <td>1858</td>\n",
       "      <td>0.76</td>\n",
       "      <td>1.53</td>\n",
       "      <td>13659.84</td>\n",
       "      <td>0</td>\n",
       "    </tr>\n",
       "    <tr>\n",
       "      <th>2</th>\n",
       "      <td>3</td>\n",
       "      <td>4</td>\n",
       "      <td>TQRMNOSRUHLNMNCDEIJAH00610905</td>\n",
       "      <td>2019</td>\n",
       "      <td>1</td>\n",
       "      <td>1</td>\n",
       "      <td>1</td>\n",
       "      <td>1</td>\n",
       "      <td>1</td>\n",
       "      <td>S</td>\n",
       "      <td>33</td>\n",
       "      <td>1396</td>\n",
       "      <td>1</td>\n",
       "      <td>2</td>\n",
       "      <td>24365</td>\n",
       "      <td>52</td>\n",
       "      <td>1</td>\n",
       "      <td>1</td>\n",
       "      <td>1</td>\n",
       "      <td>2</td>\n",
       "      <td>0</td>\n",
       "      <td>2</td>\n",
       "      <td>1</td>\n",
       "      <td>NaN</td>\n",
       "      <td>3</td>\n",
       "      <td>90.0</td>\n",
       "      <td>1</td>\n",
       "      <td>NaN</td>\n",
       "      <td>2</td>\n",
       "      <td>1</td>\n",
       "      <td>3</td>\n",
       "      <td>0</td>\n",
       "      <td>0</td>\n",
       "      <td>0</td>\n",
       "      <td>0</td>\n",
       "      <td>0</td>\n",
       "      <td>0</td>\n",
       "      <td>0</td>\n",
       "      <td>0</td>\n",
       "      <td>0</td>\n",
       "      <td>0</td>\n",
       "      <td>0</td>\n",
       "      <td>0</td>\n",
       "      <td>0</td>\n",
       "      <td>2.0</td>\n",
       "      <td>2.0</td>\n",
       "      <td>48.0</td>\n",
       "      <td>12.0</td>\n",
       "      <td>2.0</td>\n",
       "      <td>0.0</td>\n",
       "      <td>...</td>\n",
       "      <td>NaN</td>\n",
       "      <td>9000.0</td>\n",
       "      <td>3</td>\n",
       "      <td>NaN</td>\n",
       "      <td>3</td>\n",
       "      <td>3</td>\n",
       "      <td>NaN</td>\n",
       "      <td>3</td>\n",
       "      <td>1727</td>\n",
       "      <td>4500.0</td>\n",
       "      <td>13500.0</td>\n",
       "      <td>5</td>\n",
       "      <td>NaN</td>\n",
       "      <td>4</td>\n",
       "      <td>5</td>\n",
       "      <td>NaN</td>\n",
       "      <td>5</td>\n",
       "      <td>1698</td>\n",
       "      <td>0</td>\n",
       "      <td>0.0</td>\n",
       "      <td>0</td>\n",
       "      <td>0</td>\n",
       "      <td>0.0</td>\n",
       "      <td>0</td>\n",
       "      <td>0</td>\n",
       "      <td>0</td>\n",
       "      <td>0</td>\n",
       "      <td>0.0</td>\n",
       "      <td>0</td>\n",
       "      <td>0</td>\n",
       "      <td>0.0</td>\n",
       "      <td>35500.0</td>\n",
       "      <td>6.0</td>\n",
       "      <td>NaN</td>\n",
       "      <td>6.0</td>\n",
       "      <td>6.0</td>\n",
       "      <td>NaN</td>\n",
       "      <td>6.0</td>\n",
       "      <td>8875.0</td>\n",
       "      <td>4.0</td>\n",
       "      <td>NaN</td>\n",
       "      <td>4.0</td>\n",
       "      <td>4.0</td>\n",
       "      <td>NaN</td>\n",
       "      <td>4.0</td>\n",
       "      <td>2681</td>\n",
       "      <td>1.00</td>\n",
       "      <td>3.54</td>\n",
       "      <td>31605.12</td>\n",
       "      <td>0</td>\n",
       "    </tr>\n",
       "    <tr>\n",
       "      <th>3</th>\n",
       "      <td>4</td>\n",
       "      <td>5</td>\n",
       "      <td>TQRMNOSRUHLNMNCDEIJAH00610905</td>\n",
       "      <td>2019</td>\n",
       "      <td>1</td>\n",
       "      <td>1</td>\n",
       "      <td>2</td>\n",
       "      <td>1</td>\n",
       "      <td>1</td>\n",
       "      <td>S</td>\n",
       "      <td>33</td>\n",
       "      <td>1396</td>\n",
       "      <td>2</td>\n",
       "      <td>1</td>\n",
       "      <td>25215</td>\n",
       "      <td>50</td>\n",
       "      <td>1</td>\n",
       "      <td>1</td>\n",
       "      <td>1</td>\n",
       "      <td>2</td>\n",
       "      <td>0</td>\n",
       "      <td>2</td>\n",
       "      <td>1</td>\n",
       "      <td>NaN</td>\n",
       "      <td>3</td>\n",
       "      <td>22.0</td>\n",
       "      <td>1</td>\n",
       "      <td>NaN</td>\n",
       "      <td>2</td>\n",
       "      <td>1</td>\n",
       "      <td>3</td>\n",
       "      <td>0</td>\n",
       "      <td>0</td>\n",
       "      <td>0</td>\n",
       "      <td>0</td>\n",
       "      <td>0</td>\n",
       "      <td>0</td>\n",
       "      <td>0</td>\n",
       "      <td>0</td>\n",
       "      <td>0</td>\n",
       "      <td>0</td>\n",
       "      <td>0</td>\n",
       "      <td>0</td>\n",
       "      <td>0</td>\n",
       "      <td>1.0</td>\n",
       "      <td>0.0</td>\n",
       "      <td>49.0</td>\n",
       "      <td>0.0</td>\n",
       "      <td>2.0</td>\n",
       "      <td>0.0</td>\n",
       "      <td>...</td>\n",
       "      <td>NaN</td>\n",
       "      <td>12000.0</td>\n",
       "      <td>4</td>\n",
       "      <td>NaN</td>\n",
       "      <td>4</td>\n",
       "      <td>4</td>\n",
       "      <td>NaN</td>\n",
       "      <td>4</td>\n",
       "      <td>2022</td>\n",
       "      <td>0.0</td>\n",
       "      <td>12000.0</td>\n",
       "      <td>4</td>\n",
       "      <td>NaN</td>\n",
       "      <td>4</td>\n",
       "      <td>4</td>\n",
       "      <td>NaN</td>\n",
       "      <td>4</td>\n",
       "      <td>1876</td>\n",
       "      <td>0</td>\n",
       "      <td>0.0</td>\n",
       "      <td>0</td>\n",
       "      <td>0</td>\n",
       "      <td>0.0</td>\n",
       "      <td>0</td>\n",
       "      <td>0</td>\n",
       "      <td>0</td>\n",
       "      <td>0</td>\n",
       "      <td>0.0</td>\n",
       "      <td>0</td>\n",
       "      <td>0</td>\n",
       "      <td>0.0</td>\n",
       "      <td>35500.0</td>\n",
       "      <td>6.0</td>\n",
       "      <td>NaN</td>\n",
       "      <td>6.0</td>\n",
       "      <td>6.0</td>\n",
       "      <td>NaN</td>\n",
       "      <td>6.0</td>\n",
       "      <td>8875.0</td>\n",
       "      <td>4.0</td>\n",
       "      <td>NaN</td>\n",
       "      <td>4.0</td>\n",
       "      <td>4.0</td>\n",
       "      <td>NaN</td>\n",
       "      <td>4.0</td>\n",
       "      <td>2681</td>\n",
       "      <td>0.76</td>\n",
       "      <td>3.54</td>\n",
       "      <td>31605.12</td>\n",
       "      <td>0</td>\n",
       "    </tr>\n",
       "    <tr>\n",
       "      <th>4</th>\n",
       "      <td>5</td>\n",
       "      <td>6</td>\n",
       "      <td>TQRMNOSRUHLNMNCDEIJAH00610905</td>\n",
       "      <td>2019</td>\n",
       "      <td>1</td>\n",
       "      <td>1</td>\n",
       "      <td>3</td>\n",
       "      <td>1</td>\n",
       "      <td>1</td>\n",
       "      <td>S</td>\n",
       "      <td>33</td>\n",
       "      <td>1396</td>\n",
       "      <td>3</td>\n",
       "      <td>1</td>\n",
       "      <td>35146</td>\n",
       "      <td>23</td>\n",
       "      <td>1</td>\n",
       "      <td>4</td>\n",
       "      <td>1</td>\n",
       "      <td>1</td>\n",
       "      <td>1</td>\n",
       "      <td>4</td>\n",
       "      <td>2</td>\n",
       "      <td>2.0</td>\n",
       "      <td>1</td>\n",
       "      <td>NaN</td>\n",
       "      <td>1</td>\n",
       "      <td>NaN</td>\n",
       "      <td>3</td>\n",
       "      <td>1</td>\n",
       "      <td>3</td>\n",
       "      <td>0</td>\n",
       "      <td>0</td>\n",
       "      <td>0</td>\n",
       "      <td>0</td>\n",
       "      <td>0</td>\n",
       "      <td>0</td>\n",
       "      <td>0</td>\n",
       "      <td>0</td>\n",
       "      <td>0</td>\n",
       "      <td>0</td>\n",
       "      <td>0</td>\n",
       "      <td>0</td>\n",
       "      <td>0</td>\n",
       "      <td>1.0</td>\n",
       "      <td>0.0</td>\n",
       "      <td>12.0</td>\n",
       "      <td>0.0</td>\n",
       "      <td>1.0</td>\n",
       "      <td>1.0</td>\n",
       "      <td>...</td>\n",
       "      <td>NaN</td>\n",
       "      <td>5000.0</td>\n",
       "      <td>2</td>\n",
       "      <td>NaN</td>\n",
       "      <td>2</td>\n",
       "      <td>2</td>\n",
       "      <td>NaN</td>\n",
       "      <td>2</td>\n",
       "      <td>1805</td>\n",
       "      <td>0.0</td>\n",
       "      <td>10000.0</td>\n",
       "      <td>4</td>\n",
       "      <td>NaN</td>\n",
       "      <td>3</td>\n",
       "      <td>3</td>\n",
       "      <td>NaN</td>\n",
       "      <td>4</td>\n",
       "      <td>1876</td>\n",
       "      <td>0</td>\n",
       "      <td>0.0</td>\n",
       "      <td>0</td>\n",
       "      <td>0</td>\n",
       "      <td>0.0</td>\n",
       "      <td>0</td>\n",
       "      <td>0</td>\n",
       "      <td>5000</td>\n",
       "      <td>0</td>\n",
       "      <td>0.0</td>\n",
       "      <td>0</td>\n",
       "      <td>0</td>\n",
       "      <td>5000.0</td>\n",
       "      <td>35500.0</td>\n",
       "      <td>6.0</td>\n",
       "      <td>NaN</td>\n",
       "      <td>6.0</td>\n",
       "      <td>6.0</td>\n",
       "      <td>NaN</td>\n",
       "      <td>6.0</td>\n",
       "      <td>8875.0</td>\n",
       "      <td>4.0</td>\n",
       "      <td>NaN</td>\n",
       "      <td>4.0</td>\n",
       "      <td>4.0</td>\n",
       "      <td>NaN</td>\n",
       "      <td>4.0</td>\n",
       "      <td>2681</td>\n",
       "      <td>0.76</td>\n",
       "      <td>3.54</td>\n",
       "      <td>31605.12</td>\n",
       "      <td>0</td>\n",
       "    </tr>\n",
       "  </tbody>\n",
       "</table>\n",
       "<p>5 rows × 183 columns</p>\n",
       "</div>"
      ],
      "text/plain": [
       "   index  Unnamed: 0                         CODUSU  ANO4  TRIMESTRE  \\\n",
       "0      1           2  TQRMNOQWRHLNMNCDEIJAH00605319  2019          1   \n",
       "1      2           3  TQRMNOQWRHLNMNCDEIJAH00605319  2019          1   \n",
       "2      3           4  TQRMNOSRUHLNMNCDEIJAH00610905  2019          1   \n",
       "3      4           5  TQRMNOSRUHLNMNCDEIJAH00610905  2019          1   \n",
       "4      5           6  TQRMNOSRUHLNMNCDEIJAH00610905  2019          1   \n",
       "\n",
       "   NRO_HOGAR  COMPONENTE  H15  REGION MAS_500  AGLOMERADO  PONDERA  CH03  \\\n",
       "0          1           1    1       1       S          33     1396     1   \n",
       "1          1           2    1       1       S          33     1396     8   \n",
       "2          1           1    1       1       S          33     1396     1   \n",
       "3          1           2    1       1       S          33     1396     2   \n",
       "4          1           3    1       1       S          33     1396     3   \n",
       "\n",
       "   CH04   CH05  CH06  CH07  CH08  CH09  CH10  CH11  CH12  CH13  CH14  CH15  \\\n",
       "0     1  32213    31     5     4     1     2     0     4     1   NaN     1   \n",
       "1     1  33299    28     5     4     1     2     0     4     1   NaN     1   \n",
       "2     2  24365    52     1     1     1     2     0     2     1   NaN     3   \n",
       "3     1  25215    50     1     1     1     2     0     2     1   NaN     3   \n",
       "4     1  35146    23     1     4     1     1     1     4     2   2.0     1   \n",
       "\n",
       "   CH15_COD  CH16  CH16_COD  NIVEL_ED  ESTADO  CAT_OCUP  CAT_INAC  IMPUTA  \\\n",
       "0       NaN     1       NaN         4       1         3         0       0   \n",
       "1       NaN     1       NaN         4       1         3         0       0   \n",
       "2      90.0     1       NaN         2       1         3         0       0   \n",
       "3      22.0     1       NaN         2       1         3         0       0   \n",
       "4       NaN     1       NaN         3       1         3         0       0   \n",
       "\n",
       "   PP02C1  PP02C2  PP02C3  PP02C4  PP02C5  PP02C6  PP02C7  PP02C8  PP02E  \\\n",
       "0       0       0       0       0       0       0       0       0      0   \n",
       "1       0       0       0       0       0       0       0       0      0   \n",
       "2       0       0       0       0       0       0       0       0      0   \n",
       "3       0       0       0       0       0       0       0       0      0   \n",
       "4       0       0       0       0       0       0       0       0      0   \n",
       "\n",
       "   PP02H  PP02I  PP03C  PP03D  PP3E_TOT  PP3F_TOT  PP03G  PP03H  ...  PP11T  \\\n",
       "0      0      0    1.0    0.0      77.0       0.0    2.0    0.0  ...    NaN   \n",
       "1      0      0    1.0    0.0      77.0       0.0    2.0    0.0  ...    NaN   \n",
       "2      0      0    2.0    2.0      48.0      12.0    2.0    0.0  ...    NaN   \n",
       "3      0      0    1.0    0.0      49.0       0.0    2.0    0.0  ...    NaN   \n",
       "4      0      0    1.0    0.0      12.0       0.0    1.0    1.0  ...    NaN   \n",
       "\n",
       "       P21  DECOCUR  IDECOCUR  RDECOCUR  GDECOCUR  PDECOCUR  ADECOCUR  \\\n",
       "0  15000.0        5       NaN         4         5       NaN         5   \n",
       "1  15000.0        5       NaN         4         5       NaN         5   \n",
       "2   9000.0        3       NaN         3         3       NaN         3   \n",
       "3  12000.0        4       NaN         4         4       NaN         4   \n",
       "4   5000.0        2       NaN         2         2       NaN         2   \n",
       "\n",
       "   PONDIIO  TOT_P12     P47T  DECINDR  IDECINDR  RDECINDR  GDECINDR  PDECINDR  \\\n",
       "0     1790      0.0  15000.0        5       NaN         5         5       NaN   \n",
       "1     2018      0.0  15000.0        5       NaN         5         5       NaN   \n",
       "2     1727   4500.0  13500.0        5       NaN         4         5       NaN   \n",
       "3     2022      0.0  12000.0        4       NaN         4         4       NaN   \n",
       "4     1805      0.0  10000.0        4       NaN         3         3       NaN   \n",
       "\n",
       "   ADECINDR  PONDII  V2_M  V3_M  V4_M  V5_M  V8_M  V9_M  V10_M  V11_M  V12_M  \\\n",
       "0         5    1837     0   0.0     0     0   0.0     0      0      0      0   \n",
       "1         5    1935     0   0.0     0     0   0.0     0      0      0      0   \n",
       "2         5    1698     0   0.0     0     0   0.0     0      0      0      0   \n",
       "3         4    1876     0   0.0     0     0   0.0     0      0      0      0   \n",
       "4         4    1876     0   0.0     0     0   0.0     0      0   5000      0   \n",
       "\n",
       "   V18_M  V19_AM  V21_M    T_VI      ITF  DECIFR  IDECIFR  RDECIFR  GDECIFR  \\\n",
       "0    0.0       0      0     0.0  30000.0     5.0      NaN      5.0      5.0   \n",
       "1    0.0       0      0     0.0  30000.0     5.0      NaN      5.0      5.0   \n",
       "2    0.0       0      0     0.0  35500.0     6.0      NaN      6.0      6.0   \n",
       "3    0.0       0      0     0.0  35500.0     6.0      NaN      6.0      6.0   \n",
       "4    0.0       0      0  5000.0  35500.0     6.0      NaN      6.0      6.0   \n",
       "\n",
       "   PDECIFR  ADECIFR     IPCF  DECCFR  IDECCFR  RDECCFR  GDECCFR  PDECCFR  \\\n",
       "0      NaN      5.0  15000.0     7.0      NaN      6.0      6.0      NaN   \n",
       "1      NaN      5.0  15000.0     7.0      NaN      6.0      6.0      NaN   \n",
       "2      NaN      6.0   8875.0     4.0      NaN      4.0      4.0      NaN   \n",
       "3      NaN      6.0   8875.0     4.0      NaN      4.0      4.0      NaN   \n",
       "4      NaN      6.0   8875.0     4.0      NaN      4.0      4.0      NaN   \n",
       "\n",
       "   ADECCFR  PONDIH  adulto_equiv  ad_equiv_hogar  ingreso_necesario  Pobre  \n",
       "0      7.0    1858          0.77            1.53           13659.84      0  \n",
       "1      7.0    1858          0.76            1.53           13659.84      0  \n",
       "2      4.0    2681          1.00            3.54           31605.12      0  \n",
       "3      4.0    2681          0.76            3.54           31605.12      0  \n",
       "4      4.0    2681          0.76            3.54           31605.12      0  \n",
       "\n",
       "[5 rows x 183 columns]"
      ]
     },
     "execution_count": 23,
     "metadata": {},
     "output_type": "execute_result"
    }
   ],
   "source": [
    "respondieron.head()"
   ]
  },
  {
   "cell_type": "markdown",
   "metadata": {},
   "source": [
    "### PARTE 2 - Clasificacion"
   ]
  },
  {
   "cell_type": "markdown",
   "metadata": {},
   "source": [
    "Eliminamos de la spreadsheet \"respondieron\" y \"norespondieron\" todas las variables\n",
    "asociadas a ingresos para evitar colinearidad. De la misma manera, quitamos las columnas relacionadas a adulto equivalente, adulto equivalente por hogar e ingreso necesario. También dejamos afuera a variables que no aportan información sensible como TRIMESTRE, CODUSU, etc."
   ]
  },
  {
   "cell_type": "code",
   "execution_count": 24,
   "metadata": {},
   "outputs": [],
   "source": [
    "\n",
    "\n",
    "respondieron = df[df.ITF > 0].copy()\n",
    "respondieron[\"ingreso_necesario\"] = respondieron[\"ad_equiv_hogar\"] * 8928\n",
    "respondieron[\"Pobre\"] = np.where(respondieron.ingreso_necesario < respondieron.ITF, 0, 1)\n",
    "\n",
    "eliminar = [\"PP08D1\", \"PP08D4\", \"PP08F1\",\n",
    "            \"PP08F2\", \"PP08J1\", \"PP08J2\", \n",
    "            \"PP08J3\", \"P21\", \"TOT_P12\", \"P47T\",\n",
    "            \"V2_M\", \"V3_M\", \"V3_M\", \"V4_M\", \"V5_M\",\n",
    "            \"V8_M\", \"V9_M\", \"V10_M\", \"V11_M\",\n",
    "            \"V12_M\",\"V18_M\", \"V19_AM\", \"V21_M\",\n",
    "            \"T_VI\", \"ITF\", \"IPCF\"]\n",
    "respondieron.drop(columns=eliminar, inplace=True)\n",
    "\n",
    "eliminar2 = [\"adulto_equiv\",\"ad_equiv_hogar\", \"ingreso_necesario\"]\n",
    "respondieron.drop(columns=eliminar2, inplace=True)\n",
    "\n",
    "eliminar3 = [\"ANO4\", \"CODUSU\", \"Unnamed: 0\", \"TRIMESTRE\",  \"CH05\"]\n",
    "respondieron.drop(columns=eliminar3, inplace=True)"
   ]
  },
  {
   "cell_type": "code",
   "execution_count": 25,
   "metadata": {},
   "outputs": [],
   "source": [
    "#importamos los paquetes de scikit learn\n",
    "from sklearn.linear_model import LogisticRegressionCV\n",
    "from sklearn.neighbors import KNeighborsClassifier\n",
    "from sklearn.discriminant_analysis import LinearDiscriminantAnalysis\n",
    "from sklearn.metrics import roc_curve, auc\n",
    "from sklearn.metrics import confusion_matrix\n",
    "from sklearn.impute import SimpleImputer\n",
    "from sklearn.utils.multiclass import unique_labels\n",
    "from sklearn.model_selection import train_test_split\n"
   ]
  },
  {
   "cell_type": "markdown",
   "metadata": {},
   "source": [
    "Empleamos la base respondieron como base de prueba utilizando el comando train_test_split, donde establecimos test_size=0.30 y random_state=101.\n",
    "Nuestra variable dependiente va a ser la categoría \"Pobres\""
   ]
  },
  {
   "cell_type": "code",
   "execution_count": 26,
   "metadata": {},
   "outputs": [
    {
     "name": "stderr",
     "output_type": "stream",
     "text": [
      "/home/lio/anaconda3/envs/eda/lib/python3.7/site-packages/numpy/core/fromnumeric.py:2389: FutureWarning: Method .ptp is deprecated and will be removed in a future version. Use numpy.ptp instead.\n",
      "  return ptp(axis=axis, out=out, **kwargs)\n"
     ]
    }
   ],
   "source": [
    "respondieron = respondieron.select_dtypes(\"number\")\n",
    "\n",
    "columnasX = respondieron.columns\n",
    "columnasX = columnasX.drop([\"Pobre\"])\n",
    "\n",
    "X = respondieron[columnasX]\n",
    "X = sm.add_constant(X)\n",
    "y = respondieron[\"Pobre\"].values\n",
    "X_train, X_test, y_train, y_test = train_test_split(X, y, test_size=0.30, random_state=101)"
   ]
  },
  {
   "cell_type": "markdown",
   "metadata": {},
   "source": [
    "Vamos a implementar los siguentes modelos\n",
    "### 1)logit\n",
    "### 2)Análisis de discriminante lineal\n",
    "### 3)KNN con k=3"
   ]
  },
  {
   "cell_type": "markdown",
   "metadata": {},
   "source": [
    "Primero ejectuamos la función para construir una matriz de confusión que tomamos directamente de acá:\n",
    "https://scikit-learn.org/0.20/auto_examples/model_selection/plot_confusion_matrix.html"
   ]
  },
  {
   "cell_type": "code",
   "execution_count": 27,
   "metadata": {},
   "outputs": [],
   "source": [
    "def plot_confusion_matrix(y_true, y_pred, classes,\n",
    "                          normalize=False,\n",
    "                          title=None,\n",
    "                          cmap=plt.cm.Blues):\n",
    "    \"\"\"\n",
    "    This function prints and plots the confusion matrix.\n",
    "    Normalization can be applied by setting `normalize=True`.\n",
    "    \"\"\"\n",
    "    if not title:\n",
    "        if normalize:\n",
    "            title = 'Normalized confusion matrix'\n",
    "        else:\n",
    "            title = 'Confusion matrix, without normalization'\n",
    "\n",
    "    # Compute confusion matrix\n",
    "    cm = confusion_matrix(y_true, y_pred)\n",
    "    # Only use the labels that appear in the data\n",
    "    classes = ['No-Pobre', 'Pobre']\n",
    "    if normalize:\n",
    "        cm = cm.astype('float') / cm.sum(axis=1)[:, np.newaxis]\n",
    "        print(\"Normalized confusion matrix\")\n",
    "    else:\n",
    "        print('Confusion matrix, without normalization')\n",
    "\n",
    "    print(cm)\n",
    "\n",
    "    fig, ax = plt.subplots()\n",
    "    im = ax.imshow(cm, interpolation='nearest', cmap=cmap)\n",
    "    ax.figure.colorbar(im, ax=ax)\n",
    "    # We want to show all ticks...\n",
    "    ax.set(xticks=np.arange(cm.shape[1]),\n",
    "           yticks=np.arange(cm.shape[0]),\n",
    "           # ... and label them with the respective list entries\n",
    "           xticklabels=classes, yticklabels=classes,\n",
    "           title=title,\n",
    "           ylabel='True label',\n",
    "           xlabel='Predicted label')\n",
    "\n",
    "    # Rotate the tick labels and set their alignment.\n",
    "    plt.setp(ax.get_xticklabels(), rotation=45, ha=\"right\",\n",
    "             rotation_mode=\"anchor\")\n",
    "\n",
    "    # Loop over data dimensions and create text annotations.\n",
    "    fmt = '.2f' if normalize else 'd'\n",
    "    thresh = cm.max() / 2.\n",
    "    for i in range(cm.shape[0]):\n",
    "        for j in range(cm.shape[1]):\n",
    "            ax.text(j, i, format(cm[i, j], fmt),\n",
    "                    ha=\"center\", va=\"center\",\n",
    "                    color=\"white\" if cm[i, j] > thresh else \"black\")\n",
    "    fig.tight_layout()\n",
    "    return cm, ax\n",
    "\n",
    "\n",
    "imp = SimpleImputer(missing_values=np.nan, strategy='median')"
   ]
  },
  {
   "cell_type": "code",
   "execution_count": 28,
   "metadata": {},
   "outputs": [
    {
     "name": "stderr",
     "output_type": "stream",
     "text": [
      "/home/lio/anaconda3/envs/eda/lib/python3.7/site-packages/sklearn/model_selection/_split.py:1978: FutureWarning: The default value of cv will change from 3 to 5 in version 0.22. Specify it explicitly to silence this warning.\n",
      "  warnings.warn(CV_WARNING, FutureWarning)\n",
      "/home/lio/anaconda3/envs/eda/lib/python3.7/site-packages/sklearn/linear_model/logistic.py:947: ConvergenceWarning: lbfgs failed to converge. Increase the number of iterations.\n",
      "  \"of iterations.\", ConvergenceWarning)\n",
      "/home/lio/anaconda3/envs/eda/lib/python3.7/site-packages/sklearn/linear_model/logistic.py:947: ConvergenceWarning: lbfgs failed to converge. Increase the number of iterations.\n",
      "  \"of iterations.\", ConvergenceWarning)\n",
      "/home/lio/anaconda3/envs/eda/lib/python3.7/site-packages/sklearn/linear_model/logistic.py:947: ConvergenceWarning: lbfgs failed to converge. Increase the number of iterations.\n",
      "  \"of iterations.\", ConvergenceWarning)\n",
      "/home/lio/anaconda3/envs/eda/lib/python3.7/site-packages/sklearn/linear_model/logistic.py:947: ConvergenceWarning: lbfgs failed to converge. Increase the number of iterations.\n",
      "  \"of iterations.\", ConvergenceWarning)\n",
      "/home/lio/anaconda3/envs/eda/lib/python3.7/site-packages/sklearn/linear_model/logistic.py:947: ConvergenceWarning: lbfgs failed to converge. Increase the number of iterations.\n",
      "  \"of iterations.\", ConvergenceWarning)\n",
      "/home/lio/anaconda3/envs/eda/lib/python3.7/site-packages/sklearn/linear_model/logistic.py:947: ConvergenceWarning: lbfgs failed to converge. Increase the number of iterations.\n",
      "  \"of iterations.\", ConvergenceWarning)\n",
      "/home/lio/anaconda3/envs/eda/lib/python3.7/site-packages/sklearn/linear_model/logistic.py:947: ConvergenceWarning: lbfgs failed to converge. Increase the number of iterations.\n",
      "  \"of iterations.\", ConvergenceWarning)\n",
      "/home/lio/anaconda3/envs/eda/lib/python3.7/site-packages/sklearn/linear_model/logistic.py:947: ConvergenceWarning: lbfgs failed to converge. Increase the number of iterations.\n",
      "  \"of iterations.\", ConvergenceWarning)\n",
      "/home/lio/anaconda3/envs/eda/lib/python3.7/site-packages/sklearn/linear_model/logistic.py:947: ConvergenceWarning: lbfgs failed to converge. Increase the number of iterations.\n",
      "  \"of iterations.\", ConvergenceWarning)\n",
      "/home/lio/anaconda3/envs/eda/lib/python3.7/site-packages/sklearn/linear_model/logistic.py:947: ConvergenceWarning: lbfgs failed to converge. Increase the number of iterations.\n",
      "  \"of iterations.\", ConvergenceWarning)\n",
      "/home/lio/anaconda3/envs/eda/lib/python3.7/site-packages/sklearn/linear_model/logistic.py:947: ConvergenceWarning: lbfgs failed to converge. Increase the number of iterations.\n",
      "  \"of iterations.\", ConvergenceWarning)\n",
      "/home/lio/anaconda3/envs/eda/lib/python3.7/site-packages/sklearn/linear_model/logistic.py:947: ConvergenceWarning: lbfgs failed to converge. Increase the number of iterations.\n",
      "  \"of iterations.\", ConvergenceWarning)\n",
      "/home/lio/anaconda3/envs/eda/lib/python3.7/site-packages/sklearn/linear_model/logistic.py:947: ConvergenceWarning: lbfgs failed to converge. Increase the number of iterations.\n",
      "  \"of iterations.\", ConvergenceWarning)\n",
      "/home/lio/anaconda3/envs/eda/lib/python3.7/site-packages/sklearn/linear_model/logistic.py:947: ConvergenceWarning: lbfgs failed to converge. Increase the number of iterations.\n",
      "  \"of iterations.\", ConvergenceWarning)\n",
      "/home/lio/anaconda3/envs/eda/lib/python3.7/site-packages/sklearn/linear_model/logistic.py:947: ConvergenceWarning: lbfgs failed to converge. Increase the number of iterations.\n",
      "  \"of iterations.\", ConvergenceWarning)\n",
      "/home/lio/anaconda3/envs/eda/lib/python3.7/site-packages/sklearn/linear_model/logistic.py:947: ConvergenceWarning: lbfgs failed to converge. Increase the number of iterations.\n",
      "  \"of iterations.\", ConvergenceWarning)\n",
      "/home/lio/anaconda3/envs/eda/lib/python3.7/site-packages/sklearn/linear_model/logistic.py:947: ConvergenceWarning: lbfgs failed to converge. Increase the number of iterations.\n",
      "  \"of iterations.\", ConvergenceWarning)\n",
      "/home/lio/anaconda3/envs/eda/lib/python3.7/site-packages/sklearn/linear_model/logistic.py:947: ConvergenceWarning: lbfgs failed to converge. Increase the number of iterations.\n",
      "  \"of iterations.\", ConvergenceWarning)\n",
      "/home/lio/anaconda3/envs/eda/lib/python3.7/site-packages/sklearn/linear_model/logistic.py:947: ConvergenceWarning: lbfgs failed to converge. Increase the number of iterations.\n",
      "  \"of iterations.\", ConvergenceWarning)\n",
      "/home/lio/anaconda3/envs/eda/lib/python3.7/site-packages/sklearn/linear_model/logistic.py:947: ConvergenceWarning: lbfgs failed to converge. Increase the number of iterations.\n",
      "  \"of iterations.\", ConvergenceWarning)\n",
      "/home/lio/anaconda3/envs/eda/lib/python3.7/site-packages/sklearn/linear_model/logistic.py:947: ConvergenceWarning: lbfgs failed to converge. Increase the number of iterations.\n",
      "  \"of iterations.\", ConvergenceWarning)\n",
      "/home/lio/anaconda3/envs/eda/lib/python3.7/site-packages/sklearn/linear_model/logistic.py:947: ConvergenceWarning: lbfgs failed to converge. Increase the number of iterations.\n",
      "  \"of iterations.\", ConvergenceWarning)\n",
      "/home/lio/anaconda3/envs/eda/lib/python3.7/site-packages/sklearn/linear_model/logistic.py:947: ConvergenceWarning: lbfgs failed to converge. Increase the number of iterations.\n",
      "  \"of iterations.\", ConvergenceWarning)\n",
      "/home/lio/anaconda3/envs/eda/lib/python3.7/site-packages/sklearn/linear_model/logistic.py:947: ConvergenceWarning: lbfgs failed to converge. Increase the number of iterations.\n",
      "  \"of iterations.\", ConvergenceWarning)\n",
      "/home/lio/anaconda3/envs/eda/lib/python3.7/site-packages/sklearn/linear_model/logistic.py:947: ConvergenceWarning: lbfgs failed to converge. Increase the number of iterations.\n",
      "  \"of iterations.\", ConvergenceWarning)\n",
      "/home/lio/anaconda3/envs/eda/lib/python3.7/site-packages/sklearn/linear_model/logistic.py:947: ConvergenceWarning: lbfgs failed to converge. Increase the number of iterations.\n",
      "  \"of iterations.\", ConvergenceWarning)\n",
      "/home/lio/anaconda3/envs/eda/lib/python3.7/site-packages/sklearn/linear_model/logistic.py:947: ConvergenceWarning: lbfgs failed to converge. Increase the number of iterations.\n",
      "  \"of iterations.\", ConvergenceWarning)\n",
      "/home/lio/anaconda3/envs/eda/lib/python3.7/site-packages/sklearn/linear_model/logistic.py:947: ConvergenceWarning: lbfgs failed to converge. Increase the number of iterations.\n",
      "  \"of iterations.\", ConvergenceWarning)\n",
      "/home/lio/anaconda3/envs/eda/lib/python3.7/site-packages/sklearn/linear_model/logistic.py:947: ConvergenceWarning: lbfgs failed to converge. Increase the number of iterations.\n",
      "  \"of iterations.\", ConvergenceWarning)\n",
      "/home/lio/anaconda3/envs/eda/lib/python3.7/site-packages/sklearn/linear_model/logistic.py:947: ConvergenceWarning: lbfgs failed to converge. Increase the number of iterations.\n",
      "  \"of iterations.\", ConvergenceWarning)\n",
      "/home/lio/anaconda3/envs/eda/lib/python3.7/site-packages/sklearn/linear_model/logistic.py:947: ConvergenceWarning: lbfgs failed to converge. Increase the number of iterations.\n",
      "  \"of iterations.\", ConvergenceWarning)\n",
      "/home/lio/anaconda3/envs/eda/lib/python3.7/site-packages/sklearn/discriminant_analysis.py:388: UserWarning: Variables are collinear.\n",
      "  warnings.warn(\"Variables are collinear.\")\n"
     ]
    }
   ],
   "source": [
    "X_train_imp = imp.fit_transform(X_train)\n",
    "X_test_imp = imp.transform(X_test)\n",
    "\n",
    "logit = LogisticRegressionCV(Cs=10, penalty='l2').fit(X_train_imp, y_train)\n",
    "lda = LinearDiscriminantAnalysis().fit(X_train_imp, y_train)\n",
    "knn = KNeighborsClassifier(n_neighbors=3).fit(X_train_imp, y_train)"
   ]
  },
  {
   "cell_type": "code",
   "execution_count": 29,
   "metadata": {},
   "outputs": [
    {
     "data": {
      "text/plain": [
       "array([[0.66666667, 0.33333333],\n",
       "       [1.        , 0.        ],\n",
       "       [0.33333333, 0.66666667],\n",
       "       ...,\n",
       "       [0.        , 1.        ],\n",
       "       [0.66666667, 0.33333333],\n",
       "       [1.        , 0.        ]])"
      ]
     },
     "execution_count": 29,
     "metadata": {},
     "output_type": "execute_result"
    }
   ],
   "source": [
    "y_hat_knn = knn.predict_proba(X_test_imp)\n",
    "y_hat_knn"
   ]
  },
  {
   "cell_type": "code",
   "execution_count": 30,
   "metadata": {},
   "outputs": [
    {
     "data": {
      "text/plain": [
       "array([[9.95280611e-01, 4.71938852e-03],\n",
       "       [9.89845714e-01, 1.01542858e-02],\n",
       "       [2.34151532e-02, 9.76584847e-01],\n",
       "       ...,\n",
       "       [2.40915427e-01, 7.59084573e-01],\n",
       "       [9.99908132e-01, 9.18681734e-05],\n",
       "       [9.79952130e-01, 2.00478698e-02]])"
      ]
     },
     "execution_count": 30,
     "metadata": {},
     "output_type": "execute_result"
    }
   ],
   "source": [
    "y_hat_lda = lda.predict_proba(X_test_imp)\n",
    "y_hat_lda"
   ]
  },
  {
   "cell_type": "code",
   "execution_count": 31,
   "metadata": {},
   "outputs": [
    {
     "data": {
      "text/plain": [
       "array([[0.86318071, 0.13681929],\n",
       "       [0.86584663, 0.13415337],\n",
       "       [0.37808894, 0.62191106],\n",
       "       ...,\n",
       "       [0.4731867 , 0.5268133 ],\n",
       "       [0.83056756, 0.16943244],\n",
       "       [0.78842534, 0.21157466]])"
      ]
     },
     "execution_count": 31,
     "metadata": {},
     "output_type": "execute_result"
    }
   ],
   "source": [
    "y_hat_logit = logit.predict_proba(X_test_imp)\n",
    "y_hat_logit"
   ]
  },
  {
   "cell_type": "code",
   "execution_count": 32,
   "metadata": {},
   "outputs": [
    {
     "data": {
      "text/plain": [
       "array([0, 0, 1, ..., 1, 0, 0])"
      ]
     },
     "execution_count": 32,
     "metadata": {},
     "output_type": "execute_result"
    }
   ],
   "source": [
    "y_test"
   ]
  },
  {
   "cell_type": "markdown",
   "metadata": {},
   "source": [
    "Construimos las curvas ROC para los modelos analizados. "
   ]
  },
  {
   "cell_type": "code",
   "execution_count": 33,
   "metadata": {},
   "outputs": [],
   "source": [
    "# Compute ROC curve and ROC area for each class\n",
    "def plot_roc(y_hat, modelo):\n",
    "    y_score = y_hat[:,1]\n",
    "    fpr = dict()\n",
    "    tpr = dict()\n",
    "    roc_auc = dict()\n",
    "    fpr, tpr, _ = roc_curve(y_test, y_score)\n",
    "    roc_auc = auc(fpr, tpr)\n",
    "    plt.figure()\n",
    "    lw = 2\n",
    "    plt.plot(fpr, tpr, color='darkorange',\n",
    "             lw=lw, label='ROC curve (area = %0.2f)' % roc_auc)\n",
    "    plt.plot([0, 1], [0, 1], color='navy', lw=lw, linestyle='--')\n",
    "    plt.xlim([0.0, 1.0])\n",
    "    plt.ylim([0.0, 1.05])\n",
    "    plt.xlabel('False Positive Rate')\n",
    "    plt.ylabel('True Positive Rate')\n",
    "    plt.title('ROC Curve - {}'.format(modelo))\n",
    "    plt.legend(loc=\"lower right\")\n",
    "    plt.show()\n",
    "    \n",
    "    return roc_auc"
   ]
  },
  {
   "cell_type": "code",
   "execution_count": 34,
   "metadata": {},
   "outputs": [
    {
     "data": {
      "image/png": "[encoded data removed]",
      "text/plain": [
       "<Figure size 432x288 with 1 Axes>"
      ]
     },
     "metadata": {
      "needs_background": "light"
     },
     "output_type": "display_data"
    },
    {
     "data": {
      "text/plain": [
       "0.9380227362275235"
      ]
     },
     "execution_count": 34,
     "metadata": {},
     "output_type": "execute_result"
    }
   ],
   "source": [
    "plot_roc(y_hat_logit, modelo='Logit')"
   ]
  },
  {
   "cell_type": "code",
   "execution_count": 35,
   "metadata": {},
   "outputs": [
    {
     "data": {
      "image/png": "[encoded data removed]",
      "text/plain": [
       "<Figure size 432x288 with 1 Axes>"
      ]
     },
     "metadata": {
      "needs_background": "light"
     },
     "output_type": "display_data"
    },
    {
     "data": {
      "text/plain": [
       "0.7712060767246937"
      ]
     },
     "execution_count": 35,
     "metadata": {},
     "output_type": "execute_result"
    }
   ],
   "source": [
    "plot_roc(y_hat_knn, modelo='KNN')"
   ]
  },
  {
   "cell_type": "code",
   "execution_count": 36,
   "metadata": {},
   "outputs": [
    {
     "data": {
      "image/png": "[encoded data removed]",
      "text/plain": [
       "<Figure size 432x288 with 1 Axes>"
      ]
     },
     "metadata": {
      "needs_background": "light"
     },
     "output_type": "display_data"
    },
    {
     "data": {
      "text/plain": [
       "0.9812464180815245"
      ]
     },
     "execution_count": 36,
     "metadata": {},
     "output_type": "execute_result"
    }
   ],
   "source": [
    "plot_roc(y_hat_lda, modelo='LDA')"
   ]
  },
  {
   "cell_type": "markdown",
   "metadata": {},
   "source": [
    "Aca vemos como en LDA la curva ROC genera la mayor área debajo la curva. De esta forma se logra  minimizar los falsos positivos y maximizar los verdaderos positivos, respecto de los otros dos modelos estudiados. \n"
   ]
  },
  {
   "cell_type": "code",
   "execution_count": null,
   "metadata": {},
   "outputs": [],
   "source": [
    "Ahora hacemos las matrices de confusión para los tres modelos."
   ]
  },
  {
   "cell_type": "code",
   "execution_count": 37,
   "metadata": {},
   "outputs": [
    {
     "name": "stdout",
     "output_type": "stream",
     "text": [
      "Confusion matrix, without normalization\n",
      "[[1200   69]\n",
      " [ 212  492]]\n",
      "Confusion matrix, without normalization\n",
      "[[1045  224]\n",
      " [ 304  400]]\n",
      "Confusion matrix, without normalization\n",
      "[[1178   91]\n",
      " [  44  660]]\n"
     ]
    },
    {
     "data": {
      "image/png": "[encoded data removed]",
      "text/plain": [
       "<Figure size 432x288 with 2 Axes>"
      ]
     },
     "metadata": {
      "needs_background": "light"
     },
     "output_type": "display_data"
    },
    {
     "data": {
      "image/png": "[encoded data removed]",
      "text/plain": [
       "<Figure size 432x288 with 2 Axes>"
      ]
     },
     "metadata": {
      "needs_background": "light"
     },
     "output_type": "display_data"
    },
    {
     "data": {
      "image/png": "[encoded data removed]",
      "text/plain": [
       "<Figure size 432x288 with 2 Axes>"
      ]
     },
     "metadata": {
      "needs_background": "light"
     },
     "output_type": "display_data"
    }
   ],
   "source": [
    "y_pred_logit =  (y_hat_logit[:,1] > 0.5).astype(\"int\")\n",
    "y_pred_knn =  (y_hat_knn[:,1] > 0.5).astype(\"int\")\n",
    "y_pred_lda =  (y_hat_lda[:,1] > 0.5).astype(\"int\")\n",
    "\n",
    "cm_logit, ax = plot_confusion_matrix(y_test, y_pred_logit, classes=[0, 1],\n",
    "                                 normalize=False,\n",
    "                                 title=None,\n",
    "                                 cmap=plt.cm.Blues)\n",
    "\n",
    "cm_knn, ax = plot_confusion_matrix(y_test, y_pred_knn, classes=[0, 1],\n",
    "                                 normalize=False,\n",
    "                                 title=None,\n",
    "                                 cmap=plt.cm.Blues)\n",
    "\n",
    "cm_lda, ax = plot_confusion_matrix(y_test, y_pred_lda, classes=[0, 1],\n",
    "                                 normalize=False,\n",
    "                                 title=None,\n",
    "                                 cmap=plt.cm.Blues)"
   ]
  },
  {
   "cell_type": "code",
   "execution_count": 43,
   "metadata": {},
   "outputs": [
    {
     "data": {
      "text/plain": [
       "(0.8575772934617334, 0.7323872275722251, 0.9315762797769893)"
      ]
     },
     "execution_count": 43,
     "metadata": {},
     "output_type": "execute_result"
    }
   ],
   "source": [
    "def accuracy(cm):\n",
    "    return cm.diagonal().sum() / cm.sum()\n",
    "\n",
    "accuracy_logit = accuracy(cm_logit)\n",
    "accuracy_knn = accuracy(cm_knn)\n",
    "accuracy_lda = accuracy(cm_lda)\n",
    "\n",
    "accuracy_logit, accuracy_knn, accuracy_lda"
   ]
  },
  {
   "cell_type": "markdown",
   "metadata": {},
   "source": [
    "La mejor Accuracy la tiene LDA, con 93%. Performando de nuevo mejor que los otros dos modelos.  "
   ]
  },
  {
   "cell_type": "code",
   "execution_count": null,
   "metadata": {},
   "outputs": [],
   "source": [
    "Ahora vamos a usar LDA para calcular la cantidad de pobres que hay entre los que no respondieron sus ingresos. "
   ]
  },
  {
   "cell_type": "code",
   "execution_count": 39,
   "metadata": {},
   "outputs": [],
   "source": [
    "X_new = norespuesta[X_train.columns]"
   ]
  },
  {
   "cell_type": "code",
   "execution_count": 40,
   "metadata": {},
   "outputs": [
    {
     "data": {
      "text/plain": [
       "array([0, 0, 0, ..., 0, 0, 0])"
      ]
     },
     "execution_count": 40,
     "metadata": {},
     "output_type": "execute_result"
    }
   ],
   "source": [
    "ypred_new = lda.predict(imp.transform(X_new))\n",
    "ypred_new"
   ]
  },
  {
   "cell_type": "code",
   "execution_count": 41,
   "metadata": {},
   "outputs": [
    {
     "data": {
      "text/plain": [
       "0    1858\n",
       "1     241\n",
       "Name: 0, dtype: int64"
      ]
     },
     "execution_count": 41,
     "metadata": {},
     "output_type": "execute_result"
    }
   ],
   "source": [
    "pd.DataFrame(ypred_new)[0].value_counts()"
   ]
  },
  {
   "cell_type": "code",
   "execution_count": 44,
   "metadata": {},
   "outputs": [
    {
     "data": {
      "text/plain": [
       "0.8851834206765127"
      ]
     },
     "execution_count": 44,
     "metadata": {},
     "output_type": "execute_result"
    }
   ],
   "source": [
    "1858/(1858+241)\n"
   ]
  },
  {
   "cell_type": "markdown",
   "metadata": {},
   "source": [
    "La proporción de pobres que no respondieron sus ingresos es de 88%. De esta manera queda en evidencia entre la población que no declara sus ingresos en la Encuesta Permanente a Hogares, la gran mayoría es pobre. "
   ]
  }
 ],
 "metadata": {
  "kernelspec": {
   "display_name": "Python [conda env:eda]",
   "language": "python",
   "name": "conda-env-eda-py"
  },
  "language_info": {
   "codemirror_mode": {
    "name": "ipython",
    "version": 3
   },
   "file_extension": ".py",
   "mimetype": "text/x-python",
   "name": "python",
   "nbconvert_exporter": "python",
   "pygments_lexer": "ipython3",
   "version": "3.7.3"
  }
 },
 "nbformat": 4,
 "nbformat_minor": 2
}
